{
 "cells": [
  {
   "cell_type": "code",
   "execution_count": 1,
   "metadata": {},
   "outputs": [
    {
     "name": "stdout",
     "output_type": "stream",
     "text": [
      "Requirement already satisfied: pyjugex in /srv/conda/envs/notebook/lib/python3.6/site-packages (1.0.1a0)\n",
      "Requirement already satisfied: requests in /srv/conda/envs/notebook/lib/python3.6/site-packages (from pyjugex) (2.22.0)\n",
      "Requirement already satisfied: scipy==1.2 in /srv/conda/envs/notebook/lib/python3.6/site-packages (from pyjugex) (1.2.0)\n",
      "Requirement already satisfied: nibabel in /srv/conda/envs/notebook/lib/python3.6/site-packages (from pyjugex) (2.5.1)\n",
      "Requirement already satisfied: xmltodict in /srv/conda/envs/notebook/lib/python3.6/site-packages (from pyjugex) (0.12.0)\n",
      "Requirement already satisfied: statsmodels in /srv/conda/envs/notebook/lib/python3.6/site-packages (from pyjugex) (0.10.1)\n",
      "Requirement already satisfied: numpy in /srv/conda/envs/notebook/lib/python3.6/site-packages (from pyjugex) (1.17.4)\n",
      "Requirement already satisfied: urllib3!=1.25.0,!=1.25.1,<1.26,>=1.21.1 in /srv/conda/envs/notebook/lib/python3.6/site-packages (from requests->pyjugex) (1.25.3)\n",
      "Requirement already satisfied: idna<2.9,>=2.5 in /srv/conda/envs/notebook/lib/python3.6/site-packages (from requests->pyjugex) (2.8)\n",
      "Requirement already satisfied: chardet<3.1.0,>=3.0.2 in /srv/conda/envs/notebook/lib/python3.6/site-packages (from requests->pyjugex) (3.0.4)\n",
      "Requirement already satisfied: certifi>=2017.4.17 in /srv/conda/envs/notebook/lib/python3.6/site-packages (from requests->pyjugex) (2019.9.11)\n",
      "Requirement already satisfied: six>=1.3 in /srv/conda/envs/notebook/lib/python3.6/site-packages (from nibabel->pyjugex) (1.12.0)\n",
      "Requirement already satisfied: patsy>=0.4.0 in /srv/conda/envs/notebook/lib/python3.6/site-packages (from statsmodels->pyjugex) (0.5.1)\n",
      "Requirement already satisfied: pandas>=0.19 in /srv/conda/envs/notebook/lib/python3.6/site-packages (from statsmodels->pyjugex) (0.25.3)\n",
      "Requirement already satisfied: python-dateutil>=2.6.1 in /srv/conda/envs/notebook/lib/python3.6/site-packages (from pandas>=0.19->statsmodels->pyjugex) (2.8.0)\n",
      "Requirement already satisfied: pytz>=2017.2 in /srv/conda/envs/notebook/lib/python3.6/site-packages (from pandas>=0.19->statsmodels->pyjugex) (2019.3)\n"
     ]
    }
   ],
   "source": [
    "!pip install pyjugex"
   ]
  },
  {
   "cell_type": "code",
   "execution_count": 2,
   "metadata": {},
   "outputs": [],
   "source": [
    "from pyjugex import PyjugexAnalysis\n",
    "import nibabel as nib\n",
    "import requests\n",
    "import pyjugex\n",
    "pmap_service_url='http://pmap-pmap-service.apps-dev.hbp.eu'"
   ]
  },
  {
   "cell_type": "code",
   "execution_count": 3,
   "metadata": {},
   "outputs": [],
   "source": [
    "hoc1_body = {\n",
    "  \"areas\": [\n",
    "    {\n",
    "      \"name\": \"Area-hOc1\",\n",
    "      \"hemisphere\": \"left\"\n",
    "    }\n",
    "  ],\n",
    "  \"threshold\": 0.2\n",
    "}\n",
    "with pyjugex.util.get_pmap(url=f'{pmap_service_url}/multimerge_v2', json=hoc1_body) as resp, open('./hoc1_l_masked.nii.gz', 'wb') as out_file:\n",
    "    out_file.write(resp.content)"
   ]
  },
  {
   "cell_type": "code",
   "execution_count": 4,
   "metadata": {},
   "outputs": [],
   "source": [
    "hoc2_body = {\n",
    "  \"areas\": [\n",
    "    {\n",
    "      \"name\": \"Area-hOc2\",\n",
    "      \"hemisphere\": \"left\"\n",
    "    }\n",
    "  ],\n",
    "  \"threshold\": 0.2\n",
    "}\n",
    "with pyjugex.util.get_pmap(url=f'{pmap_service_url}/multimerge_v2', json=hoc2_body) as resp, open('./hoc2_l_masked.nii.gz', 'wb') as out_file:\n",
    "    out_file.write(resp.content)"
   ]
  },
  {
   "cell_type": "code",
   "execution_count": 5,
   "metadata": {},
   "outputs": [],
   "source": [
    "hoc1_nii = nib.load('./hoc1_l_masked.nii.gz')\n",
    "hoc2_nii = nib.load('./hoc2_l_masked.nii.gz')\n",
    "\n",
    "gene_list=['MAOA','TAC1']\n",
    "n_rep = 1000"
   ]
  },
  {
   "cell_type": "code",
   "execution_count": 6,
   "metadata": {},
   "outputs": [],
   "source": [
    "analysis = PyjugexAnalysis(\n",
    "  n_rep=1000,\n",
    "  gene_list=gene_list,\n",
    "  roi1 = hoc1_nii,\n",
    "  roi2 = hoc2_nii\n",
    ")"
   ]
  },
  {
   "cell_type": "code",
   "execution_count": 7,
   "metadata": {},
   "outputs": [
    {
     "name": "stderr",
     "output_type": "stream",
     "text": [
      "/srv/conda/envs/notebook/lib/python3.6/site-packages/pyjugex/util.py:134: FutureWarning: arrays to stack must be passed as a \"sequence\" type such as list or tuple. Support for non-sequence iterables such as generators is deprecated as of NumPy 1.16 and will raise an error in the future.\n",
      "  mri = np.vstack(s['sample']['mri'] for s in samples)\n",
      "/srv/conda/envs/notebook/lib/python3.6/site-packages/scipy/stats/_distn_infrastructure.py:877: RuntimeWarning: invalid value encountered in greater\n",
      "  return (self.a < x) & (x < self.b)\n",
      "/srv/conda/envs/notebook/lib/python3.6/site-packages/scipy/stats/_distn_infrastructure.py:877: RuntimeWarning: invalid value encountered in less\n",
      "  return (self.a < x) & (x < self.b)\n",
      "/srv/conda/envs/notebook/lib/python3.6/site-packages/scipy/stats/_distn_infrastructure.py:1831: RuntimeWarning: invalid value encountered in less_equal\n",
      "  cond2 = cond0 & (x <= self.a)\n"
     ]
    }
   ],
   "source": [
    "analysis.differential_analysis() # Go grab a coffee"
   ]
  },
  {
   "cell_type": "code",
   "execution_count": 8,
   "metadata": {},
   "outputs": [
    {
     "name": "stdout",
     "output_type": "stream",
     "text": [
      "{'MAOA': 0.986, 'TAC1': 0.487}\n"
     ]
    }
   ],
   "source": [
    "print(analysis.anova.result)"
   ]
  },
  {
   "cell_type": "code",
   "execution_count": null,
   "metadata": {},
   "outputs": [],
   "source": []
  }
 ],
 "metadata": {
  "kernelspec": {
   "display_name": "Python 3",
   "language": "python",
   "name": "python3"
  },
  "language_info": {
   "codemirror_mode": {
    "name": "ipython",
    "version": 3
   },
   "file_extension": ".py",
   "mimetype": "text/x-python",
   "name": "python",
   "nbconvert_exporter": "python",
   "pygments_lexer": "ipython3",
   "version": "3.6.7"
  }
 },
 "nbformat": 4,
 "nbformat_minor": 1
}
